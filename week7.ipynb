{
 "cells": [
  {
   "cell_type": "code",
   "execution_count": 9,
   "metadata": {},
   "outputs": [
    {
     "name": "stdout",
     "output_type": "stream",
     "text": [
      "which we were conscious. It often happened that when we are not their own, she is more than a friend.\n"
     ]
    }
   ],
   "source": [
    "import numpy as np\n",
    "from scipy.sparse import dok_matrix\n",
    "import random\n",
    "from collections import defaultdict\n",
    "\n",
    "class WordMarkovChain:\n",
    "    def __init__(self, k=2):\n",
    "        self.k = k\n",
    "        self.transitions = dok_matrix((1, 1))\n",
    "        self.dictionary = {}\n",
    "        self.state_index = 0\n",
    "\n",
    "    def add_to_dict(self, sequence):\n",
    "        if sequence not in self.dictionary:\n",
    "            self.dictionary[sequence] = self.state_index\n",
    "            self.state_index += 1\n",
    "            self.transitions.resize((self.state_index, self.state_index))\n",
    "\n",
    "    def fit(self, text):\n",
    "        words = text.split()\n",
    "        for i in range(len(words) - self.k):\n",
    "            current_state = tuple(words[i:i + self.k])\n",
    "            next_state = tuple(words[i + 1:i + 1 + self.k])\n",
    "            self.add_to_dict(current_state)\n",
    "            self.add_to_dict(next_state)\n",
    "            self.transitions[self.dictionary[current_state], self.dictionary[next_state]] += 1\n",
    "\n",
    "    def generate_text(self, length=50):\n",
    "        state = random.choice(list(self.dictionary.keys()))\n",
    "        output = list(state)\n",
    "\n",
    "        for _ in range(length - self.k):\n",
    "            row = self.transitions[self.dictionary[state], :].toarray().ravel()\n",
    "            total = row.sum()\n",
    "\n",
    "            # Check if there are valid transitions\n",
    "            if total > 0:\n",
    "                probabilities = row / total\n",
    "                next_state_index = np.random.choice(len(self.dictionary), p=probabilities)\n",
    "                next_state = list(self.dictionary.keys())[next_state_index]\n",
    "                output.append(next_state[-1])\n",
    "                state = tuple(output[-self.k:])\n",
    "            else:\n",
    "                break\n",
    "\n",
    "        return ' '.join(output)\n",
    "\n",
    "# Example Usage\n",
    "# text = \"This is a test text with a sequence of words to test the Markov chain implementation. This implementation uses a Markov chain for word sequences.\"\n",
    "with open('text.txt', 'r', encoding=\"utf8\") as f:\n",
    "    text = f.read()\n",
    "markov_chain = WordMarkovChain(k=2)\n",
    "markov_chain.fit(text)\n",
    "generated_text = markov_chain.generate_text(length=20)\n",
    "print(generated_text)"
   ]
  }
 ],
 "metadata": {
  "kernelspec": {
   "display_name": "Python 3",
   "language": "python",
   "name": "python3"
  },
  "language_info": {
   "codemirror_mode": {
    "name": "ipython",
    "version": 3
   },
   "file_extension": ".py",
   "mimetype": "text/x-python",
   "name": "python",
   "nbconvert_exporter": "python",
   "pygments_lexer": "ipython3",
   "version": "3.8.8"
  }
 },
 "nbformat": 4,
 "nbformat_minor": 2
}
