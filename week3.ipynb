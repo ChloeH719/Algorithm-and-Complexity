{
 "cells": [
  {
   "cell_type": "code",
   "execution_count": 2,
   "metadata": {},
   "outputs": [
    {
     "data": {
      "text/plain": [
       "{'s': 0, 'a': 2, 'b': 5, 'c': 9, 'd': 12}"
      ]
     },
     "execution_count": 2,
     "metadata": {},
     "output_type": "execute_result"
    }
   ],
   "source": [
    "from heapq import heappop, heappush\n",
    "from collections import defaultdict\n",
    "\n",
    "def longest_path_dag_dijkstra(graph, start):\n",
    "    # Create a dictionary to store the longest distances from start to each node\n",
    "    longest_distances = {v: float('-inf') for v in graph}\n",
    "    longest_distances[start] = 0\n",
    "\n",
    "    # Priority queue to select the node with the longest distance to start\n",
    "    pq = [(-longest_distances[start], start)]  # Negative because heapq is a min heap\n",
    "\n",
    "    while pq:\n",
    "        current_distance, current_node = heappop(pq)\n",
    "        current_distance = -current_distance  # Negate back to get the actual distance\n",
    "\n",
    "        # Relaxation step (maximize the distance)\n",
    "        for neighbor, weight in graph[current_node]:\n",
    "            distance = current_distance + weight\n",
    "            if distance > longest_distances[neighbor]:\n",
    "                longest_distances[neighbor] = distance\n",
    "                heappush(pq, (-distance, neighbor))  # Negate to maintain max heap property\n",
    "\n",
    "    return longest_distances\n",
    "\n",
    "# Example graph represented as an adjacency list with non-negative weights\n",
    "graph = {\n",
    "    's': [('a', 2), ('b', 1)],\n",
    "    'a': [('b', 3), ('c', 2)],\n",
    "    'b': [('c', 4), ('d', 2)],\n",
    "    'c': [('d', 3)],\n",
    "    'd': []\n",
    "}\n",
    "\n",
    "# Find longest paths from 's'\n",
    "longest_paths = longest_path_dag_dijkstra(graph, 's')\n",
    "longest_paths"
   ]
  },
  {
   "cell_type": "code",
   "execution_count": 4,
   "metadata": {},
   "outputs": [
    {
     "name": "stdout",
     "output_type": "stream",
     "text": [
      "Minimum coins to make 57: [20, 20, 10, 5, 2]\n"
     ]
    }
   ],
   "source": [
    "def find_min_coins(coin_set, value):\n",
    "    # Sort the coins in descending order\n",
    "    coin_set.sort(reverse=True)\n",
    "    \n",
    "    # Initialize the result\n",
    "    result = []\n",
    "    \n",
    "    # Go through the coins, starting with the largest\n",
    "    for coin in coin_set:\n",
    "        # While we can still use the coin, add it to the result\n",
    "        while value >= coin:\n",
    "            value -= coin\n",
    "            result.append(coin)\n",
    "    \n",
    "    # Check if we have successfully found the change\n",
    "    if value == 0:\n",
    "        return result\n",
    "    else:\n",
    "        return \"Change cannot be made with the given coins.\"\n",
    "\n",
    "# Example coins and value\n",
    "C = [1, 2, 5, 10, 20]\n",
    "V = 57\n",
    "\n",
    "# Find the minimum coins\n",
    "min_coins = find_min_coins(C, V)\n",
    "print(f\"Minimum coins to make {V}: {min_coins}\")"
   ]
  }
 ],
 "metadata": {
  "kernelspec": {
   "display_name": "Python 3",
   "language": "python",
   "name": "python3"
  },
  "language_info": {
   "codemirror_mode": {
    "name": "ipython",
    "version": 3
   },
   "file_extension": ".py",
   "mimetype": "text/x-python",
   "name": "python",
   "nbconvert_exporter": "python",
   "pygments_lexer": "ipython3",
   "version": "3.8.8"
  }
 },
 "nbformat": 4,
 "nbformat_minor": 2
}
